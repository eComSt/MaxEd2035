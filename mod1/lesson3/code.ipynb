{
 "cells": [
  {
   "cell_type": "code",
   "execution_count": null,
   "metadata": {},
   "outputs": [],
   "source": [
    "i = 0 \n",
    "while i<2**25:\n",
    "    # print(i)\n",
    "    i += 1\n",
    "#i = i+1"
   ]
  },
  {
   "cell_type": "code",
   "execution_count": null,
   "metadata": {},
   "outputs": [],
   "source": [
    "for i in range(0,2**25):\n",
    "    pass\n"
   ]
  },
  {
   "cell_type": "code",
   "execution_count": null,
   "metadata": {},
   "outputs": [],
   "source": [
    "x = 0\n",
    "while True:\n",
    "    print(x)\n",
    "    x+=1\n",
    "    "
   ]
  },
  {
   "cell_type": "code",
   "execution_count": 20,
   "metadata": {},
   "outputs": [
    {
     "name": "stdout",
     "output_type": "stream",
     "text": [
      "2\n",
      "4\n",
      "8\n",
      "16\n",
      "32\n",
      "64\n",
      "128\n",
      "512\n",
      "1024\n",
      "Цикл закончился\n"
     ]
    }
   ],
   "source": [
    "i = 1\n",
    "while True:\n",
    "     i *= 2\n",
    "     if i == 256:\n",
    "          continue\n",
    "     print(i)\n",
    "     if i == 1024:\n",
    "          break\n",
    "\n",
    "print(\"Цикл закончился\")\n"
   ]
  },
  {
   "cell_type": "code",
   "execution_count": 23,
   "metadata": {},
   "outputs": [
    {
     "name": "stdout",
     "output_type": "stream",
     "text": [
      "Цикл закончился\n"
     ]
    }
   ],
   "source": [
    "i = 1\n",
    "while i<1024:\n",
    "    i+=i\n",
    "    if i == 512: \n",
    "        break\n",
    "else:\n",
    "    print(\"Цикл закончился\")"
   ]
  },
  {
   "cell_type": "code",
   "execution_count": 26,
   "metadata": {},
   "outputs": [
    {
     "name": "stdout",
     "output_type": "stream",
     "text": [
      "Коля угадал число с 2 попытки\n"
     ]
    }
   ],
   "source": [
    "number = 7\n",
    "guess = 0\n",
    "attempts = 1\n",
    "\n",
    "while guess != number:\n",
    "    guess = int(input(\"Угадайте число: \"))\n",
    "    attempts += 1\n",
    "    if guess == -1:\n",
    "        break\n",
    "else:\n",
    "    print(f\"Коля угадал число с {attempts} попытки\")"
   ]
  },
  {
   "cell_type": "code",
   "execution_count": 27,
   "metadata": {},
   "outputs": [
    {
     "name": "stdout",
     "output_type": "stream",
     "text": [
      "Коля угадал число с 2 попытки\n"
     ]
    }
   ],
   "source": [
    "attempts = 1\n",
    "while guess := int(input(\"Угадайте число: \")) != 7: attempts += 1\n",
    "print(f\"Коля угадал число с {attempts} попытки\")"
   ]
  }
 ],
 "metadata": {
  "kernelspec": {
   "display_name": "Python 3",
   "language": "python",
   "name": "python3"
  },
  "language_info": {
   "codemirror_mode": {
    "name": "ipython",
    "version": 3
   },
   "file_extension": ".py",
   "mimetype": "text/x-python",
   "name": "python",
   "nbconvert_exporter": "python",
   "pygments_lexer": "ipython3",
   "version": "3.11.1"
  }
 },
 "nbformat": 4,
 "nbformat_minor": 2
}
