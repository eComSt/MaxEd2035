{
 "cells": [
  {
   "cell_type": "code",
   "execution_count": null,
   "metadata": {},
   "outputs": [],
   "source": [
    "for i in range(50,1,-5):\n",
    "     print(i)\n",
    "     if i==35:\n",
    "          break\n",
    "else:\n",
    "     print('!!!!')\n"
   ]
  },
  {
   "cell_type": "code",
   "execution_count": null,
   "metadata": {},
   "outputs": [],
   "source": [
    "strg = \"Hello World\"\n",
    "for i in strg:\n",
    "    print(i)"
   ]
  },
  {
   "cell_type": "code",
   "execution_count": 8,
   "metadata": {},
   "outputs": [
    {
     "name": "stdout",
     "output_type": "stream",
     "text": [
      "Bananas\n",
      "Apples\n",
      "42\n",
      "52\n"
     ]
    }
   ],
   "source": [
    "SPB = 52\n",
    "lst = ['Bananas','Apples', 42, SPB]\n",
    "for i in lst:\n",
    "    print(i)"
   ]
  },
  {
   "cell_type": "code",
   "execution_count": 9,
   "metadata": {},
   "outputs": [
    {
     "name": "stdout",
     "output_type": "stream",
     "text": [
      "73.5\n"
     ]
    }
   ],
   "source": [
    "a = 2\n",
    "c = 0\n",
    "for i in range(14):\n",
    "    c += a\n",
    "    a += 0.5\n",
    "print(c)"
   ]
  },
  {
   "cell_type": "code",
   "execution_count": 12,
   "metadata": {},
   "outputs": [
    {
     "name": "stdout",
     "output_type": "stream",
     "text": [
      "Спортсмен преодолеет 73.5 километров за две недели\n"
     ]
    }
   ],
   "source": [
    "dist = 2\n",
    "total_dist = 2\n",
    "\n",
    "for _ in range(13):\n",
    "    dist += 0.5\n",
    "    total_dist += dist\n",
    "\n",
    "print(f\"Спортсмен преодолеет {total_dist} километров за две недели\")"
   ]
  },
  {
   "cell_type": "code",
   "execution_count": 15,
   "metadata": {},
   "outputs": [
    {
     "name": "stdout",
     "output_type": "stream",
     "text": [
      "73.5\n"
     ]
    }
   ],
   "source": [
    "road = 2\n",
    "total = 0\n",
    "day = 1\n",
    "while day <= 14:\n",
    "    total += road\n",
    "    road += 0.5\n",
    "    day += 1\n",
    "print(total)"
   ]
  }
 ],
 "metadata": {
  "kernelspec": {
   "display_name": "Python 3",
   "language": "python",
   "name": "python3"
  },
  "language_info": {
   "codemirror_mode": {
    "name": "ipython",
    "version": 3
   },
   "file_extension": ".py",
   "mimetype": "text/x-python",
   "name": "python",
   "nbconvert_exporter": "python",
   "pygments_lexer": "ipython3",
   "version": "3.11.1"
  }
 },
 "nbformat": 4,
 "nbformat_minor": 2
}
