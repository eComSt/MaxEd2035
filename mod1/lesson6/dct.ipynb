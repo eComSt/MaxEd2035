{
 "cells": [
  {
   "cell_type": "code",
   "execution_count": 10,
   "metadata": {},
   "outputs": [
    {
     "name": "stdout",
     "output_type": "stream",
     "text": [
      "автомобиль\n"
     ]
    }
   ],
   "source": [
    "my_dict = {\n",
    "    \"apple\": \"яблоко\",\n",
    "    \"cat\": \"кошка\",\n",
    "    \"dog\": \"собака\",\n",
    "    \"ball\": \"мяч\",\n",
    "    \"car\": \"машина\",\n",
    "    \"house\": \"дом\",\n",
    "    \"tree\": \"дерево\",\n",
    "    \"flower\": \"цветок\",\n",
    "}\n",
    "my_dict['car'] = \"автомобиль\"\n",
    "word = input()\n",
    "print(my_dict.get(word, \"нет такого слова\"))"
   ]
  },
  {
   "cell_type": "code",
   "execution_count": 15,
   "metadata": {},
   "outputs": [
    {
     "name": "stdout",
     "output_type": "stream",
     "text": [
      "{'apple': 'яблоко', 'cat': 'кошка', 'dog': 'собакен'}\n"
     ]
    }
   ],
   "source": [
    "my_dict = {\n",
    "    \"apple\": \"яблоко\",\n",
    "    \"cat\": \"кошка\",\n",
    "    \"dog\": \"собака\",\n",
    "}\n",
    "my_dict2 = {\n",
    "    \"ball\": \"мяч\",\n",
    "    \"car\": \"машина\",\n",
    "    \"house\": \"дом\",\n",
    "    \"tree\": \"дерево\",\n",
    "    \"flower\": \"цветок\",\n",
    "}\n",
    "# total = my_dict+(my_dict2)\n",
    "my_dict.update({\"dog\": \"собакен\"})\n",
    "print(my_dict)\n"
   ]
  },
  {
   "cell_type": "code",
   "execution_count": 17,
   "metadata": {},
   "outputs": [
    {
     "name": "stdout",
     "output_type": "stream",
     "text": [
      "машина\n",
      "{'apple': 'яблоко', 'cat': 'кошка', 'dog': 'собака', 'ball': 'мяч', 'house': 'дом', 'tree': 'дерево', 'flower': 'цветок'}\n"
     ]
    }
   ],
   "source": [
    "my_dict = {\n",
    "    \"apple\": \"яблоко\",\n",
    "    \"cat\": \"кошка\",\n",
    "    \"dog\": \"собака\",\n",
    "    \"ball\": \"мяч\",\n",
    "    \"car\": \"машина\",\n",
    "    \"house\": \"дом\",\n",
    "    \"tree\": \"дерево\",\n",
    "    \"flower\": \"цветок\",\n",
    "}\n",
    "del my_dict['car']\n",
    "a = my_dict.pop('car')\n",
    "print(a)\n",
    "print(my_dict)"
   ]
  }
 ],
 "metadata": {
  "kernelspec": {
   "display_name": "Python 3",
   "language": "python",
   "name": "python3"
  },
  "language_info": {
   "codemirror_mode": {
    "name": "ipython",
    "version": 3
   },
   "file_extension": ".py",
   "mimetype": "text/x-python",
   "name": "python",
   "nbconvert_exporter": "python",
   "pygments_lexer": "ipython3",
   "version": "3.11.1"
  }
 },
 "nbformat": 4,
 "nbformat_minor": 2
}
