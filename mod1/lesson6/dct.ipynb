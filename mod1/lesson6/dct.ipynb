{
 "cells": [
  {
   "cell_type": "code",
   "execution_count": 10,
   "metadata": {},
   "outputs": [
    {
     "name": "stdout",
     "output_type": "stream",
     "text": [
      "автомобиль\n"
     ]
    }
   ],
   "source": [
    "my_dict = {\n",
    "    \"apple\": \"яблоко\",\n",
    "    \"cat\": \"кошка\",\n",
    "    \"dog\": \"собака\",\n",
    "    \"ball\": \"мяч\",\n",
    "    \"car\": \"машина\",\n",
    "    \"house\": \"дом\",\n",
    "    \"tree\": \"дерево\",\n",
    "    \"flower\": \"цветок\",\n",
    "}\n",
    "my_dict['car'] = \"автомобиль\"\n",
    "word = input()\n",
    "print(my_dict.get(word, \"нет такого слова\"))"
   ]
  },
  {
   "cell_type": "code",
   "execution_count": 15,
   "metadata": {},
   "outputs": [
    {
     "name": "stdout",
     "output_type": "stream",
     "text": [
      "{'apple': 'яблоко', 'cat': 'кошка', 'dog': 'собакен'}\n"
     ]
    }
   ],
   "source": [
    "my_dict = {\n",
    "    \"apple\": \"яблоко\",\n",
    "    \"cat\": \"кошка\",\n",
    "    \"dog\": \"собака\",\n",
    "}\n",
    "my_dict2 = {\n",
    "    \"ball\": \"мяч\",\n",
    "    \"car\": \"машина\",\n",
    "    \"house\": \"дом\",\n",
    "    \"tree\": \"дерево\",\n",
    "    \"flower\": \"цветок\",\n",
    "}\n",
    "# total = my_dict+(my_dict2)\n",
    "my_dict.update({\"dog\": \"собакен\"})\n",
    "print(my_dict)\n"
   ]
  },
  {
   "cell_type": "code",
   "execution_count": 21,
   "metadata": {},
   "outputs": [
    {
     "name": "stdout",
     "output_type": "stream",
     "text": [
      "('flower', 'цветок')\n",
      "{'apple': 'яблоко', 'cat': 'кошка', 'dog': 'собака', 'ball': 'мяч', 'car': 'машина', 'house': 'дом', 'tree': 'дерево'}\n"
     ]
    }
   ],
   "source": [
    "my_dict = {\n",
    "    \"apple\": \"яблоко\",\n",
    "    \"cat\": \"кошка\",\n",
    "    \"dog\": \"собака\",\n",
    "    \"ball\": \"мяч\",\n",
    "    \"car\": \"машина\",\n",
    "    \"house\": \"дом\",\n",
    "    \"tree\": \"дерево\",\n",
    "    \"flower\": \"цветок\",\n",
    "}\n",
    "# del my_dict['car']\n",
    "a = my_dict.popitem()\n",
    "print(a)\n",
    "print(my_dict)"
   ]
  },
  {
   "cell_type": "code",
   "execution_count": 27,
   "metadata": {},
   "outputs": [
    {
     "name": "stdout",
     "output_type": "stream",
     "text": [
      "1\n",
      "dict_keys(['robot'])\n",
      "dict_values(['робот'])\n",
      "dict_items([('robot', 'робот')])\n"
     ]
    }
   ],
   "source": [
    "my_dict = {\n",
    "    \"apple\": \"яблоко\",\n",
    "    \"cat\": \"кошка\",\n",
    "    \"dog\": \"собака\",\n",
    "    \"ball\": \"мяч\",\n",
    "    \"car\": \"машина\",\n",
    "    \"house\": \"дом\",\n",
    "    \"tree\": \"дерево\",\n",
    "    \"flower\": \"цветок\",\n",
    "}\n",
    "my_dict.clear()\n",
    "my_dict['robot'] = 'робот'\n",
    "print(len(my_dict))\n",
    "print(my_dict.keys())\n",
    "print(my_dict.values())\n",
    "print(my_dict.items())"
   ]
  },
  {
   "cell_type": "code",
   "execution_count": 40,
   "metadata": {},
   "outputs": [
    {
     "name": "stdout",
     "output_type": "stream",
     "text": [
      "{'apple': 'яблоко', 'cat': '?', 'dog': 'собака'}\n"
     ]
    }
   ],
   "source": [
    "my_dict = {\n",
    "    \"apple\": \"яблоко\",\n",
    "    \"cat\": \"кошка\",\n",
    "    \"dog\": \"собака\",\n",
    "}\n",
    "my_dict2 = my_dict.copy()\n",
    "my_dict['cat'] = '?'\n",
    "print(my_dict)"
   ]
  },
  {
   "cell_type": "code",
   "execution_count": 36,
   "metadata": {},
   "outputs": [
    {
     "name": "stdout",
     "output_type": "stream",
     "text": [
      "[1, 2, 3, 4]\n"
     ]
    }
   ],
   "source": [
    "lst = [1,2,3]\n",
    "lst2 = lst\n",
    "lst.append(4)\n",
    "print(lst2)"
   ]
  }
 ],
 "metadata": {
  "kernelspec": {
   "display_name": "Python 3",
   "language": "python",
   "name": "python3"
  },
  "language_info": {
   "codemirror_mode": {
    "name": "ipython",
    "version": 3
   },
   "file_extension": ".py",
   "mimetype": "text/x-python",
   "name": "python",
   "nbconvert_exporter": "python",
   "pygments_lexer": "ipython3",
   "version": "3.11.1"
  }
 },
 "nbformat": 4,
 "nbformat_minor": 2
}
